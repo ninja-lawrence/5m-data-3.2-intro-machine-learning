{
 "cells": [
  {
   "cell_type": "markdown",
   "id": "3676f414",
   "metadata": {},
   "source": [
    "# Assignment\n",
    "\n",
    "## Instructions\n",
    "\n",
    "Complete the following exercises using Python.\n",
    "\n",
    "1. Linear Regression Exercise:\n",
    "   Using the California Housing dataset from scikit-learn, create a linear regression model to predict house prices.\n",
    "   Evaluate the performance of Linear Regression on test set.\n"
   ]
  },
  {
   "cell_type": "code",
   "execution_count": 3,
   "id": "38cb05f4",
   "metadata": {},
   "outputs": [
    {
     "name": "stdout",
     "output_type": "stream",
     "text": [
      "Mean Squared Error: 0.5558915986952417\n",
      "R^2 Score: 0.5757877060324528\n"
     ]
    }
   ],
   "source": [
    "#Linear Regression Exercise:\n",
    "#   Using the California Housing dataset from scikit-learn, create a linear regression model to predict house prices.\n",
    "#   Evaluate the performance of Linear Regression on test set.\n",
    "\n",
    "from sklearn.datasets import fetch_california_housing\n",
    "from sklearn.model_selection import train_test_split\n",
    "from sklearn.linear_model import LinearRegression\n",
    "from sklearn.metrics import mean_squared_error, r2_score\n",
    "\n",
    "# Load dataset\n",
    "housing = fetch_california_housing()\n",
    "X = housing.data\n",
    "y = housing.target\n",
    "\n",
    "# Split dataset into training and testing sets\n",
    "X_train, X_test, y_train, y_test = train_test_split(X, y, test_size=0.2, random_state=42)\n",
    "# Create a Linear Regression model\n",
    "model = LinearRegression()\n",
    "# Train the model\n",
    "model.fit(X_train, y_train)\n",
    "# Make predictions on the test set\n",
    "y_pred = model.predict(X_test)\n",
    "# Evaluate the model\n",
    "mse = mean_squared_error(y_test, y_pred)\n",
    "r2 = r2_score(y_test, y_pred)\n",
    "print(f\"Mean Squared Error: {mse}\")\n",
    "print(f\"R^2 Score: {r2}\")\n"
   ]
  },
  {
   "cell_type": "markdown",
   "id": "b9b99078",
   "metadata": {},
   "source": [
    "2. Classification Exercise:\n",
    "   Using the breast cancer dataset from scikit-learn, build classification models to predict malignant vs benign tumors.\n",
    "   Compare Logistic Regression and KNN performance on test set.\n",
    "\n",
    "   ```python\n",
    "   from sklearn.datasets import load_breast_cancer\n",
    "\n",
    "   # Load dataset\n",
    "   cancer = load_breast_cancer()\n",
    "   ```\n"
   ]
  },
  {
   "cell_type": "code",
   "execution_count": 5,
   "id": "922ad094",
   "metadata": {},
   "outputs": [
    {
     "name": "stdout",
     "output_type": "stream",
     "text": [
      "Logistic Regression Accuracy: 0.956140350877193\n",
      "              precision    recall  f1-score   support\n",
      "\n",
      "           0       0.97      0.91      0.94        43\n",
      "           1       0.95      0.99      0.97        71\n",
      "\n",
      "    accuracy                           0.96       114\n",
      "   macro avg       0.96      0.95      0.95       114\n",
      "weighted avg       0.96      0.96      0.96       114\n",
      "\n"
     ]
    }
   ],
   "source": [
    "# Classification Exercise:\n",
    "#    Using the breast cancer dataset from scikit-learn, build classification models to predict malignant vs benign tumors.\n",
    "#    Compare Logistic Regression and KNN performance on test set.\n",
    "from sklearn.datasets import load_breast_cancer\n",
    "\n",
    "   # Load dataset\n",
    "cancer = load_breast_cancer()\n",
    "X = cancer.data\n",
    "y = cancer.target\n",
    "\n",
    "# Split dataset into training and testing sets\n",
    "X_train, X_test, y_train, y_test = train_test_split(X, y, test_size=0.2, random_state=42)\n",
    "from sklearn.linear_model import LogisticRegression\n",
    "from sklearn.neighbors import KNeighborsClassifier\n",
    "from sklearn.metrics import accuracy_score, classification_report\n",
    "# Logistic Regression model\n",
    "log_reg = LogisticRegression(max_iter=10000)\n",
    "log_reg.fit(X_train, y_train)\n",
    "y_pred_log = log_reg.predict(X_test)\n",
    "acc_log = accuracy_score(y_test, y_pred_log)\n",
    "print(f\"Logistic Regression Accuracy: {acc_log}\")\n",
    "print(classification_report(y_test, y_pred_log))\n"
   ]
  },
  {
   "cell_type": "code",
   "execution_count": 6,
   "id": "6a572f69",
   "metadata": {},
   "outputs": [
    {
     "name": "stdout",
     "output_type": "stream",
     "text": [
      "KNN Accuracy: 0.956140350877193\n",
      "              precision    recall  f1-score   support\n",
      "\n",
      "           0       1.00      0.88      0.94        43\n",
      "           1       0.93      1.00      0.97        71\n",
      "\n",
      "    accuracy                           0.96       114\n",
      "   macro avg       0.97      0.94      0.95       114\n",
      "weighted avg       0.96      0.96      0.96       114\n",
      "\n"
     ]
    }
   ],
   "source": [
    "# KNN model\n",
    "knn = KNeighborsClassifier(n_neighbors=5)\n",
    "knn.fit(X_train, y_train)\n",
    "y_pred_knn = knn.predict(X_test)\n",
    "acc_knn = accuracy_score(y_test, y_pred_knn)\n",
    "print(f\"KNN Accuracy: {acc_knn}\")\n",
    "print(classification_report(y_test, y_pred_knn))"
   ]
  }
 ],
 "metadata": {
  "kernelspec": {
   "display_name": "ml",
   "language": "python",
   "name": "python3"
  },
  "language_info": {
   "codemirror_mode": {
    "name": "ipython",
    "version": 3
   },
   "file_extension": ".py",
   "mimetype": "text/x-python",
   "name": "python",
   "nbconvert_exporter": "python",
   "pygments_lexer": "ipython3",
   "version": "3.11.5"
  }
 },
 "nbformat": 4,
 "nbformat_minor": 5
}
